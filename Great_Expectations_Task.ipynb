{
  "cells": [
    {
      "cell_type": "markdown",
      "metadata": {
        "id": "S0KvgYslI64f"
      },
      "source": [
        "# Great Expectations Task"
      ]
    },
    {
      "cell_type": "markdown",
      "metadata": {
        "id": "9R147FfXJG4F"
      },
      "source": [
        "## 1. Install Great Expectations Library\n"
      ]
    },
    {
      "cell_type": "code",
      "execution_count": 1,
      "metadata": {
        "collapsed": true,
        "id": "TGqDcWNh3Y_-"
      },
      "outputs": [
        {
          "name": "stdout",
          "output_type": "stream",
          "text": [
            "Requirement already satisfied: great_expectations in c:\\users\\ryanj\\miniforge3\\lib\\site-packages (1.3.13)\n",
            "Requirement already satisfied: altair<5.0.0,>=4.2.1 in c:\\users\\ryanj\\miniforge3\\lib\\site-packages (from great_expectations) (4.2.2)\n",
            "Requirement already satisfied: cryptography>=3.2 in c:\\users\\ryanj\\miniforge3\\lib\\site-packages (from great_expectations) (44.0.2)\n",
            "Requirement already satisfied: jinja2>=3 in c:\\users\\ryanj\\miniforge3\\lib\\site-packages (from great_expectations) (3.1.6)\n",
            "Requirement already satisfied: jsonschema>=2.5.1 in c:\\users\\ryanj\\miniforge3\\lib\\site-packages (from great_expectations) (4.23.0)\n",
            "Requirement already satisfied: marshmallow<4.0.0,>=3.7.1 in c:\\users\\ryanj\\miniforge3\\lib\\site-packages (from great_expectations) (3.26.1)\n",
            "Requirement already satisfied: mistune>=0.8.4 in c:\\users\\ryanj\\miniforge3\\lib\\site-packages (from great_expectations) (3.1.3)\n",
            "Requirement already satisfied: packaging in c:\\users\\ryanj\\miniforge3\\lib\\site-packages (from great_expectations) (24.0)\n",
            "Requirement already satisfied: posthog<4,>3 in c:\\users\\ryanj\\miniforge3\\lib\\site-packages (from great_expectations) (3.23.0)\n",
            "Requirement already satisfied: pydantic>=1.10.7 in c:\\users\\ryanj\\miniforge3\\lib\\site-packages (from great_expectations) (2.11.2)\n",
            "Requirement already satisfied: pyparsing>=2.4 in c:\\users\\ryanj\\miniforge3\\lib\\site-packages (from great_expectations) (3.2.3)\n",
            "Requirement already satisfied: python-dateutil>=2.8.1 in c:\\users\\ryanj\\miniforge3\\lib\\site-packages (from great_expectations) (2.9.0.post0)\n",
            "Requirement already satisfied: requests>=2.20 in c:\\users\\ryanj\\miniforge3\\lib\\site-packages (from great_expectations) (2.31.0)\n",
            "Requirement already satisfied: ruamel.yaml>=0.16 in c:\\users\\ryanj\\miniforge3\\lib\\site-packages (from great_expectations) (0.18.6)\n",
            "Requirement already satisfied: scipy>=1.6.0 in c:\\users\\ryanj\\miniforge3\\lib\\site-packages (from great_expectations) (1.15.2)\n",
            "Requirement already satisfied: tqdm>=4.59.0 in c:\\users\\ryanj\\miniforge3\\lib\\site-packages (from great_expectations) (4.66.2)\n",
            "Requirement already satisfied: typing-extensions>=4.1.0 in c:\\users\\ryanj\\miniforge3\\lib\\site-packages (from great_expectations) (4.13.1)\n",
            "Requirement already satisfied: tzlocal>=1.2 in c:\\users\\ryanj\\miniforge3\\lib\\site-packages (from great_expectations) (5.3.1)\n",
            "Requirement already satisfied: numpy>=1.22.4 in c:\\users\\ryanj\\miniforge3\\lib\\site-packages (from great_expectations) (1.26.4)\n",
            "Requirement already satisfied: pandas<2.2,>=1.3.0 in c:\\users\\ryanj\\miniforge3\\lib\\site-packages (from great_expectations) (2.1.4)\n",
            "Requirement already satisfied: entrypoints in c:\\users\\ryanj\\miniforge3\\lib\\site-packages (from altair<5.0.0,>=4.2.1->great_expectations) (0.4)\n",
            "Requirement already satisfied: toolz in c:\\users\\ryanj\\miniforge3\\lib\\site-packages (from altair<5.0.0,>=4.2.1->great_expectations) (1.0.0)\n",
            "Requirement already satisfied: cffi>=1.12 in c:\\users\\ryanj\\miniforge3\\lib\\site-packages (from cryptography>=3.2->great_expectations) (1.16.0)\n",
            "Requirement already satisfied: MarkupSafe>=2.0 in c:\\users\\ryanj\\miniforge3\\lib\\site-packages (from jinja2>=3->great_expectations) (3.0.2)\n",
            "Requirement already satisfied: attrs>=22.2.0 in c:\\users\\ryanj\\miniforge3\\lib\\site-packages (from jsonschema>=2.5.1->great_expectations) (25.3.0)\n",
            "Requirement already satisfied: jsonschema-specifications>=2023.03.6 in c:\\users\\ryanj\\miniforge3\\lib\\site-packages (from jsonschema>=2.5.1->great_expectations) (2024.10.1)\n",
            "Requirement already satisfied: referencing>=0.28.4 in c:\\users\\ryanj\\miniforge3\\lib\\site-packages (from jsonschema>=2.5.1->great_expectations) (0.36.2)\n",
            "Requirement already satisfied: rpds-py>=0.7.1 in c:\\users\\ryanj\\miniforge3\\lib\\site-packages (from jsonschema>=2.5.1->great_expectations) (0.24.0)\n",
            "Requirement already satisfied: pytz>=2020.1 in c:\\users\\ryanj\\miniforge3\\lib\\site-packages (from pandas<2.2,>=1.3.0->great_expectations) (2025.2)\n",
            "Requirement already satisfied: tzdata>=2022.1 in c:\\users\\ryanj\\miniforge3\\lib\\site-packages (from pandas<2.2,>=1.3.0->great_expectations) (2025.2)\n",
            "Requirement already satisfied: six>=1.5 in c:\\users\\ryanj\\miniforge3\\lib\\site-packages (from posthog<4,>3->great_expectations) (1.17.0)\n",
            "Requirement already satisfied: monotonic>=1.5 in c:\\users\\ryanj\\miniforge3\\lib\\site-packages (from posthog<4,>3->great_expectations) (1.6)\n",
            "Requirement already satisfied: backoff>=1.10.0 in c:\\users\\ryanj\\miniforge3\\lib\\site-packages (from posthog<4,>3->great_expectations) (2.2.1)\n",
            "Requirement already satisfied: distro>=1.5.0 in c:\\users\\ryanj\\miniforge3\\lib\\site-packages (from posthog<4,>3->great_expectations) (1.9.0)\n",
            "Requirement already satisfied: annotated-types>=0.6.0 in c:\\users\\ryanj\\miniforge3\\lib\\site-packages (from pydantic>=1.10.7->great_expectations) (0.7.0)\n",
            "Requirement already satisfied: pydantic-core==2.33.1 in c:\\users\\ryanj\\miniforge3\\lib\\site-packages (from pydantic>=1.10.7->great_expectations) (2.33.1)\n",
            "Requirement already satisfied: typing-inspection>=0.4.0 in c:\\users\\ryanj\\miniforge3\\lib\\site-packages (from pydantic>=1.10.7->great_expectations) (0.4.0)\n",
            "Requirement already satisfied: charset-normalizer<4,>=2 in c:\\users\\ryanj\\miniforge3\\lib\\site-packages (from requests>=2.20->great_expectations) (3.3.2)\n",
            "Requirement already satisfied: idna<4,>=2.5 in c:\\users\\ryanj\\miniforge3\\lib\\site-packages (from requests>=2.20->great_expectations) (3.6)\n",
            "Requirement already satisfied: urllib3<3,>=1.21.1 in c:\\users\\ryanj\\miniforge3\\lib\\site-packages (from requests>=2.20->great_expectations) (2.2.1)\n",
            "Requirement already satisfied: certifi>=2017.4.17 in c:\\users\\ryanj\\miniforge3\\lib\\site-packages (from requests>=2.20->great_expectations) (2025.1.31)\n",
            "Requirement already satisfied: ruamel.yaml.clib>=0.2.7 in c:\\users\\ryanj\\miniforge3\\lib\\site-packages (from ruamel.yaml>=0.16->great_expectations) (0.2.8)\n",
            "Requirement already satisfied: colorama in c:\\users\\ryanj\\miniforge3\\lib\\site-packages (from tqdm>=4.59.0->great_expectations) (0.4.6)\n",
            "Requirement already satisfied: pycparser in c:\\users\\ryanj\\miniforge3\\lib\\site-packages (from cffi>=1.12->cryptography>=3.2->great_expectations) (2.22)\n"
          ]
        }
      ],
      "source": [
        "!pip install great_expectations"
      ]
    },
    {
      "cell_type": "markdown",
      "metadata": {
        "id": "fWSO9h40JZjg"
      },
      "source": [
        "##2. Import Necessary Libraries"
      ]
    },
    {
      "cell_type": "code",
      "execution_count": 2,
      "metadata": {
        "collapsed": true,
        "id": "77qWdq8yVVEl"
      },
      "outputs": [],
      "source": [
        "import pandas as pd\n",
        "import great_expectations as gx"
      ]
    },
    {
      "cell_type": "markdown",
      "metadata": {
        "id": "Fdt5KucDJu-h"
      },
      "source": [
        "##3. Load Labels.csv"
      ]
    },
    {
      "cell_type": "markdown",
      "metadata": {
        "id": "pP3MW4uUhwAR"
      },
      "source": [
        "Download and upload the [Labels.csv](https://github.com/zubxxr/SOFE3980U-Lab5/blob/main/Labels.csv) into this notebook, and then load the file."
      ]
    },
    {
      "cell_type": "code",
      "execution_count": 11,
      "metadata": {
        "id": "ogHUyzFKdS5z"
      },
      "outputs": [],
      "source": [
        "df = pd.read_csv('Labels.csv')"
      ]
    },
    {
      "cell_type": "markdown",
      "metadata": {
        "id": "2BCIXXwdJyS7"
      },
      "source": [
        "##4. Preview the Dataset"
      ]
    },
    {
      "cell_type": "code",
      "execution_count": 4,
      "metadata": {
        "id": "OXpbbmRsVj0k"
      },
      "outputs": [
        {
          "data": {
            "text/html": [
              "<div>\n",
              "<style scoped>\n",
              "    .dataframe tbody tr th:only-of-type {\n",
              "        vertical-align: middle;\n",
              "    }\n",
              "\n",
              "    .dataframe tbody tr th {\n",
              "        vertical-align: top;\n",
              "    }\n",
              "\n",
              "    .dataframe thead th {\n",
              "        text-align: right;\n",
              "    }\n",
              "</style>\n",
              "<table border=\"1\" class=\"dataframe\">\n",
              "  <thead>\n",
              "    <tr style=\"text-align: right;\">\n",
              "      <th></th>\n",
              "      <th>Timestamp</th>\n",
              "      <th>Car1_Location_X</th>\n",
              "      <th>Car1_Location_Y</th>\n",
              "      <th>Car1_Location_Z</th>\n",
              "      <th>Car2_Location_X</th>\n",
              "      <th>Car2_Location_Y</th>\n",
              "      <th>Car2_Location_Z</th>\n",
              "      <th>Occluded_Image_view</th>\n",
              "      <th>Occluding_Car_view</th>\n",
              "      <th>Ground_Truth_View</th>\n",
              "      <th>pedestrianLocationX_TopLeft</th>\n",
              "      <th>pedestrianLocationY_TopLeft</th>\n",
              "      <th>pedestrianLocationX_BottomRight</th>\n",
              "      <th>pedestrianLocationY_BottomRight</th>\n",
              "    </tr>\n",
              "  </thead>\n",
              "  <tbody>\n",
              "    <tr>\n",
              "      <th>0</th>\n",
              "      <td>1736796157</td>\n",
              "      <td>-51.402977</td>\n",
              "      <td>143</td>\n",
              "      <td>0.596902</td>\n",
              "      <td>-59.320270</td>\n",
              "      <td>140</td>\n",
              "      <td>0.596902</td>\n",
              "      <td>A_001.png</td>\n",
              "      <td>B_001.png</td>\n",
              "      <td>C_001.png</td>\n",
              "      <td>593</td>\n",
              "      <td>361</td>\n",
              "      <td>610</td>\n",
              "      <td>410</td>\n",
              "    </tr>\n",
              "    <tr>\n",
              "      <th>1</th>\n",
              "      <td>1736796167</td>\n",
              "      <td>-53.819637</td>\n",
              "      <td>143</td>\n",
              "      <td>0.596902</td>\n",
              "      <td>-59.196568</td>\n",
              "      <td>140</td>\n",
              "      <td>0.596902</td>\n",
              "      <td>A_002.png</td>\n",
              "      <td>B_002.png</td>\n",
              "      <td>C_002.png</td>\n",
              "      <td>579</td>\n",
              "      <td>368</td>\n",
              "      <td>594</td>\n",
              "      <td>415</td>\n",
              "    </tr>\n",
              "    <tr>\n",
              "      <th>2</th>\n",
              "      <td>1736796178</td>\n",
              "      <td>-50.239144</td>\n",
              "      <td>143</td>\n",
              "      <td>0.596902</td>\n",
              "      <td>-56.744479</td>\n",
              "      <td>140</td>\n",
              "      <td>0.596902</td>\n",
              "      <td>A_003.png</td>\n",
              "      <td>B_003.png</td>\n",
              "      <td>C_003.png</td>\n",
              "      <td>854</td>\n",
              "      <td>720</td>\n",
              "      <td>854</td>\n",
              "      <td>720</td>\n",
              "    </tr>\n",
              "    <tr>\n",
              "      <th>3</th>\n",
              "      <td>1736796188</td>\n",
              "      <td>-53.707220</td>\n",
              "      <td>143</td>\n",
              "      <td>0.596902</td>\n",
              "      <td>-57.309380</td>\n",
              "      <td>140</td>\n",
              "      <td>0.596902</td>\n",
              "      <td>A_004.png</td>\n",
              "      <td>B_004.png</td>\n",
              "      <td>C_004.png</td>\n",
              "      <td>549</td>\n",
              "      <td>368</td>\n",
              "      <td>567</td>\n",
              "      <td>425</td>\n",
              "    </tr>\n",
              "    <tr>\n",
              "      <th>4</th>\n",
              "      <td>1736796198</td>\n",
              "      <td>-52.053721</td>\n",
              "      <td>143</td>\n",
              "      <td>0.596902</td>\n",
              "      <td>-59.545897</td>\n",
              "      <td>140</td>\n",
              "      <td>0.596902</td>\n",
              "      <td>A_005.png</td>\n",
              "      <td>B_005.png</td>\n",
              "      <td>C_005.png</td>\n",
              "      <td>524</td>\n",
              "      <td>368</td>\n",
              "      <td>537</td>\n",
              "      <td>413</td>\n",
              "    </tr>\n",
              "  </tbody>\n",
              "</table>\n",
              "</div>"
            ],
            "text/plain": [
              "    Timestamp  Car1_Location_X  Car1_Location_Y  Car1_Location_Z  \\\n",
              "0  1736796157       -51.402977              143         0.596902   \n",
              "1  1736796167       -53.819637              143         0.596902   \n",
              "2  1736796178       -50.239144              143         0.596902   \n",
              "3  1736796188       -53.707220              143         0.596902   \n",
              "4  1736796198       -52.053721              143         0.596902   \n",
              "\n",
              "   Car2_Location_X  Car2_Location_Y  Car2_Location_Z Occluded_Image_view  \\\n",
              "0       -59.320270              140         0.596902           A_001.png   \n",
              "1       -59.196568              140         0.596902           A_002.png   \n",
              "2       -56.744479              140         0.596902           A_003.png   \n",
              "3       -57.309380              140         0.596902           A_004.png   \n",
              "4       -59.545897              140         0.596902           A_005.png   \n",
              "\n",
              "  Occluding_Car_view Ground_Truth_View  pedestrianLocationX_TopLeft  \\\n",
              "0          B_001.png         C_001.png                          593   \n",
              "1          B_002.png         C_002.png                          579   \n",
              "2          B_003.png         C_003.png                          854   \n",
              "3          B_004.png         C_004.png                          549   \n",
              "4          B_005.png         C_005.png                          524   \n",
              "\n",
              "   pedestrianLocationY_TopLeft  pedestrianLocationX_BottomRight  \\\n",
              "0                          361                              610   \n",
              "1                          368                              594   \n",
              "2                          720                              854   \n",
              "3                          368                              567   \n",
              "4                          368                              537   \n",
              "\n",
              "   pedestrianLocationY_BottomRight  \n",
              "0                              410  \n",
              "1                              415  \n",
              "2                              720  \n",
              "3                              425  \n",
              "4                              413  "
            ]
          },
          "execution_count": 4,
          "metadata": {},
          "output_type": "execute_result"
        }
      ],
      "source": [
        "df.head()"
      ]
    },
    {
      "cell_type": "markdown",
      "metadata": {
        "id": "WwljyFlFJ1A8"
      },
      "source": [
        "##5. Set Up Great Expectations Context and Data Source"
      ]
    },
    {
      "cell_type": "code",
      "execution_count": 5,
      "metadata": {
        "id": "SxSmTGmZVk5U"
      },
      "outputs": [],
      "source": [
        "context = gx.get_context()\n",
        "data_source = context.data_sources.add_pandas(name=\"labels_datasource\")\n",
        "data_asset = data_source.add_dataframe_asset(name=\"labels_dataframe\")"
      ]
    },
    {
      "cell_type": "markdown",
      "metadata": {
        "id": "IHl4W07zJ5-A"
      },
      "source": [
        "##6. Define and Create a Data Batch"
      ]
    },
    {
      "cell_type": "code",
      "execution_count": 10,
      "metadata": {
        "id": "dTdpe1tVhpgp"
      },
      "outputs": [
        {
          "ename": "AttributeError",
          "evalue": "module 'great_expectations.data_context' has no attribute 'DataContext'",
          "output_type": "error",
          "traceback": [
            "\u001b[1;31m---------------------------------------------------------------------------\u001b[0m",
            "\u001b[1;31mAttributeError\u001b[0m                            Traceback (most recent call last)",
            "Cell \u001b[1;32mIn[10], line 8\u001b[0m\n\u001b[0;32m      5\u001b[0m df \u001b[38;5;241m=\u001b[39m pd\u001b[38;5;241m.\u001b[39mread_csv(\u001b[38;5;124m'\u001b[39m\u001b[38;5;124mLabels.csv\u001b[39m\u001b[38;5;124m'\u001b[39m)\n\u001b[0;32m      7\u001b[0m \u001b[38;5;66;03m# Create a Data Context (ensure the path is correct)\u001b[39;00m\n\u001b[1;32m----> 8\u001b[0m context \u001b[38;5;241m=\u001b[39m \u001b[43mgx\u001b[49m\u001b[38;5;241;43m.\u001b[39;49m\u001b[43mdata_context\u001b[49m\u001b[38;5;241;43m.\u001b[39;49m\u001b[43mDataContext\u001b[49m(\u001b[38;5;124m\"\u001b[39m\u001b[38;5;124mpath/to/your/great_expectations/directory\u001b[39m\u001b[38;5;124m\"\u001b[39m)\n\u001b[0;32m     10\u001b[0m \u001b[38;5;66;03m# Create a PandasDatasource\u001b[39;00m\n\u001b[0;32m     11\u001b[0m datasource \u001b[38;5;241m=\u001b[39m context\u001b[38;5;241m.\u001b[39madd_datasource(\n\u001b[0;32m     12\u001b[0m     \u001b[38;5;124m\"\u001b[39m\u001b[38;5;124mmy_datasource\u001b[39m\u001b[38;5;124m\"\u001b[39m,\n\u001b[0;32m     13\u001b[0m     class_name\u001b[38;5;241m=\u001b[39m\u001b[38;5;124m\"\u001b[39m\u001b[38;5;124mPandasDatasource\u001b[39m\u001b[38;5;124m\"\u001b[39m\n\u001b[0;32m     14\u001b[0m )\n",
            "\u001b[1;31mAttributeError\u001b[0m: module 'great_expectations.data_context' has no attribute 'DataContext'"
          ]
        }
      ],
      "source": [
        "import pandas as pd\n",
        "import great_expectations as gx\n",
        "\n",
        "# Load the dataset\n",
        "df = pd.read_csv('Labels.csv')\n",
        "\n",
        "# Create a Data Context (ensure the path is correct)\n",
        "context = gx.data_context.DataContext(\"path/to/your/great_expectations/directory\")\n",
        "\n",
        "# Create a PandasDatasource\n",
        "datasource = context.add_datasource(\n",
        "    \"my_datasource\",\n",
        "    class_name=\"PandasDatasource\"\n",
        ")\n",
        "\n",
        "# Create a batch request\n",
        "batch_request = {\n",
        "    \"datasource\": \"my_datasource\",\n",
        "    \"data_asset_name\": \"my_asset\",\n",
        "    \"data\": df\n",
        "}\n",
        "\n",
        "# Create a batch from the DataFrame\n",
        "batch = context.get_batch(batch_request)\n",
        "\n",
        "# Define expectations for the batch\n",
        "batch.expect_column_values_to_be_unique(column=\"Your_Unique_Column_Name\")\n",
        "batch.expect_column_values_to_not_be_null(column=\"Your_Non_Null_Column_Name\")\n",
        "\n",
        "# Validate expectations\n",
        "validation_results = batch.validate()\n",
        "print(validation_results)"
      ]
    },
    {
      "cell_type": "markdown",
      "metadata": {
        "id": "JhVlKGYXJ8Tf"
      },
      "source": [
        "##7. Define Three Expectations for Column Values"
      ]
    },
    {
      "cell_type": "markdown",
      "metadata": {
        "id": "8ixvqF3OYnlt"
      },
      "source": [
        "Using this [link](https://greatexpectations.io/expectations/), choose three expectation functions and apply them to the labels dataset in a relevant manner.\n",
        "\n",
        "You should replace the 'ExpectColumnValuesToBeBetween' function with other functions you select from the link.\n",
        "\n",
        "You can also check the format/parameters required of each function when you click \"See more\" on the function."
      ]
    },
    {
      "cell_type": "code",
      "execution_count": null,
      "metadata": {
        "id": "O2JMz9pScU6n"
      },
      "outputs": [],
      "source": [
        "## Original Function\n",
        "expectation = gx.expectations.ExpectColumnValuesToBeBetween(\n",
        "    column=\"column\", min_value=0, max_value=20\n",
        ")\n",
        "\n",
        "## Example Function\n",
        "\n",
        "## This function only requires a column parameter, and not a max or min value\n",
        "expectation = gx.expectations.ExpectColumnValuesToBeUnique(\n",
        "    column=\"column\"\n",
        ")"
      ]
    },
    {
      "cell_type": "markdown",
      "metadata": {
        "id": "gaIvn5Y-Mazw"
      },
      "source": [
        "### Expectation 1"
      ]
    },
    {
      "cell_type": "code",
      "execution_count": null,
      "metadata": {
        "id": "PJw-qrNyhsIX"
      },
      "outputs": [],
      "source": [
        "# Write code here"
      ]
    },
    {
      "cell_type": "markdown",
      "metadata": {
        "id": "iaWGD8GL8jSA"
      },
      "source": [
        "### Validate Data Against Expectation 1"
      ]
    },
    {
      "cell_type": "code",
      "execution_count": null,
      "metadata": {
        "id": "zE_iE0yr8k9y"
      },
      "outputs": [],
      "source": [
        "# Write code here"
      ]
    },
    {
      "cell_type": "markdown",
      "metadata": {
        "id": "37TjcPpxYiMZ"
      },
      "source": [
        "### Expectation 2"
      ]
    },
    {
      "cell_type": "code",
      "execution_count": null,
      "metadata": {
        "id": "duJPbIxoYfNc"
      },
      "outputs": [],
      "source": [
        "# Write code here"
      ]
    },
    {
      "cell_type": "markdown",
      "metadata": {
        "id": "rCO1JE2O8lcf"
      },
      "source": [
        "### Validate Data Against Expectation 2"
      ]
    },
    {
      "cell_type": "code",
      "execution_count": null,
      "metadata": {
        "id": "0HbLTxQJ8rXp"
      },
      "outputs": [],
      "source": [
        "# Write code here"
      ]
    },
    {
      "cell_type": "markdown",
      "metadata": {
        "id": "JEJ28eyoYfra"
      },
      "source": [
        "### Expectation 3"
      ]
    },
    {
      "cell_type": "code",
      "execution_count": null,
      "metadata": {
        "id": "tWFlN_hqYfkC"
      },
      "outputs": [],
      "source": [
        "# Write code here"
      ]
    },
    {
      "cell_type": "markdown",
      "metadata": {
        "id": "D9rzavkK8mqM"
      },
      "source": [
        "### Validate Data Against Expectation 3"
      ]
    },
    {
      "cell_type": "code",
      "execution_count": null,
      "metadata": {
        "id": "xGed5qns8om2"
      },
      "outputs": [],
      "source": [
        "# Write code here"
      ]
    }
  ],
  "metadata": {
    "colab": {
      "provenance": []
    },
    "kernelspec": {
      "display_name": "base",
      "language": "python",
      "name": "python3"
    },
    "language_info": {
      "codemirror_mode": {
        "name": "ipython",
        "version": 3
      },
      "file_extension": ".py",
      "mimetype": "text/x-python",
      "name": "python",
      "nbconvert_exporter": "python",
      "pygments_lexer": "ipython3",
      "version": "3.10.14"
    }
  },
  "nbformat": 4,
  "nbformat_minor": 0
}
